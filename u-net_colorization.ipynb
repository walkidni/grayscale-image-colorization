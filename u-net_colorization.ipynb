{
 "cells": [
  {
   "cell_type": "code",
   "execution_count": null,
   "metadata": {},
   "outputs": [],
   "source": [
    "import torch\n",
    "from torch import nn\n",
    "from torch.utils.data import DataLoader, Dataset\n",
    "from torchvision import datasets\n",
    "import torchvision.transforms as transforms"
   ]
  },
  {
   "cell_type": "code",
   "execution_count": null,
   "metadata": {},
   "outputs": [],
   "source": [
    "class GrayscaleCIFAR100(Dataset):\n",
    "    def __init__(self,root='./data', train=True, transform=None):\n",
    "        self.cifar100 = datasets.CIFAR100(root=root, train=train, download=True)\n",
    "        self.transform = transform\n",
    "        self.grayscale = transforms.Grayscale()\n",
    "\n",
    "    def __len__(self):\n",
    "        return len(self.cifar100)\n",
    "\n",
    "    def __getitem__(self, index):\n",
    "        image, label = self.cifar100[index]\n",
    "        \n",
    "        # Convert the image to grayscale\n",
    "        \n",
    "        grayscale_image = self.grayscale(image)\n",
    "\n",
    "        # Apply transformations if provided\n",
    "        if self.transform is not None:\n",
    "            grayscale_image = self.transform(grayscale_image)\n",
    "            image = self.transform(image)\n",
    "        \n",
    "        return grayscale_image, image"
   ]
  },
  {
   "cell_type": "code",
   "execution_count": null,
   "metadata": {},
   "outputs": [],
   "source": [
    "transform = transforms.Compose([\n",
    "    transforms.RandomHorizontalFlip(),\n",
    "    transforms.Resize((256,256)),\n",
    "    transforms.ToTensor(),\n",
    "])"
   ]
  },
  {
   "cell_type": "code",
   "execution_count": null,
   "metadata": {},
   "outputs": [],
   "source": [
    "train_data = GrayscaleCIFAR100(\n",
    "    root='./data',\n",
    "    train=True,\n",
    "    transform=transform\n",
    ")\n",
    "\n",
    "test_data = datasets.CIFAR100(\n",
    "    root='./data',\n",
    "    train=False,\n",
    "    transform=transform\n",
    ")\n"
   ]
  },
  {
   "cell_type": "code",
   "execution_count": null,
   "metadata": {},
   "outputs": [],
   "source": [
    "train_data.transform = transform\n",
    "test_data.transform = transform"
   ]
  },
  {
   "cell_type": "code",
   "execution_count": null,
   "metadata": {},
   "outputs": [],
   "source": [
    "# Create data loaders\n",
    "batch_size = 128\n",
    "train_loader = DataLoader(train_data, batch_size=batch_size, shuffle=True)\n",
    "test_loader = DataLoader(test_data, batch_size=batch_size)"
   ]
  },
  {
   "cell_type": "code",
   "execution_count": null,
   "metadata": {},
   "outputs": [],
   "source": [
    "import matplotlib.pyplot as plt\n",
    "import numpy as np\n",
    "\n",
    "# Get a batch of images\n",
    "data_iter = iter(train_loader)\n",
    "grayscaled, colored = next(data_iter)\n"
   ]
  },
  {
   "cell_type": "code",
   "execution_count": null,
   "metadata": {},
   "outputs": [],
   "source": [
    "\n",
    "# Plot the images\n",
    "fig = plt.figure(figsize=(10, 5))\n",
    "for i in range(10):\n",
    "    ax = fig.add_subplot(2, 5, i+1, xticks=[], yticks=[])\n",
    "    gray = grayscaled[i] \n",
    "    print(gray.shape)\n",
    "    gray = np.transpose(gray.numpy(), (1, 2, 0))\n",
    "    ax.imshow(gray)\n",
    "plt.show()"
   ]
  },
  {
   "cell_type": "code",
   "execution_count": null,
   "metadata": {},
   "outputs": [],
   "source": [
    "# Plot the images\n",
    "fig = plt.figure(figsize=(10, 5))\n",
    "for i in range(10):\n",
    "    ax = fig.add_subplot(2, 5, i+1, xticks=[], yticks=[])\n",
    "    color = colored[i] \n",
    "    print(color.shape)\n",
    "    color = np.transpose(color.numpy(), (1, 2, 0))\n",
    "    print(color.shape)\n",
    "    ax.imshow(color)\n",
    "plt.show()"
   ]
  },
  {
   "cell_type": "code",
   "execution_count": null,
   "metadata": {},
   "outputs": [],
   "source": [
    "relu = nn.ReLU()\n",
    "\n",
    "class DoubleConv(nn.Module):\n",
    "    def __init__(self, in_channels, out_channels):\n",
    "        super().__init__()\n",
    "        self.conv1 = nn.Conv2d(in_channels, out_channels, kernel_size=3, padding=1)\n",
    "        self.conv2 = nn.Conv2d(out_channels, out_channels, kernel_size=3, padding=1)\n",
    "\n",
    "    def forward(self, x):\n",
    "        # print(x.shape)\n",
    "        x = self.conv1(x)\n",
    "        x = relu(x)\n",
    "        x = self.conv2(x)\n",
    "        x = relu(x)\n",
    "        return x\n"
   ]
  },
  {
   "cell_type": "code",
   "execution_count": null,
   "metadata": {},
   "outputs": [],
   "source": [
    "class DecoderConv(nn.Module):\n",
    "    def __init__(self, in_channels, out_channels):\n",
    "        super().__init__()\n",
    "        # output_size = (input_size - 1) * stride + kernel_size - 2 * padding\n",
    "        self.up_conv = nn.ConvTranspose2d(in_channels, out_channels, kernel_size=2, stride=2) \n",
    "        self.conv = DoubleConv(out_channels, out_channels)\n",
    "\n",
    "    def forward(self, x, x1):\n",
    "        # print(f'x shape: {x.shape}')\n",
    "        # print(f'x1 shape: {x1.shape}')\n",
    "        y1 = self.up_conv(x)\n",
    "        # print(f'y1 shape: {y1.shape}')\n",
    "        y2 = torch.cat((y1, x1))\n",
    "        y = self.conv(y2)\n",
    "        return y"
   ]
  },
  {
   "cell_type": "code",
   "execution_count": null,
   "metadata": {},
   "outputs": [],
   "source": [
    "class UNet(nn.Module):\n",
    "    def __init__(self, input_channels=1):\n",
    "        super().__init__()\n",
    "\n",
    "        # non trainable layers\n",
    "        self.pool = nn.MaxPool2d(kernel_size=2)\n",
    "        \n",
    "        # trainable layers\n",
    "        ## encoder \n",
    "        self.en_conv1 = DoubleConv(input_channels,32)\n",
    "        self.en_conv2 = DoubleConv(32,64)\n",
    "        self.en_conv3 = DoubleConv(64,128)\n",
    "        self.en_conv4 = DoubleConv(128,256)\n",
    "        \n",
    "        ## bottleneck\n",
    "        self.conv = DoubleConv(256,512)\n",
    "\n",
    "        ## decoder\n",
    "        self.de_conv4 = DecoderConv(512,256)\n",
    "        self.de_conv3 = DecoderConv(256,128)\n",
    "        self.de_conv2 = DecoderConv(128,64)\n",
    "        self.de_conv1 = DecoderConv(64,32)\n",
    "        \n",
    "        ## reconstruct layer\n",
    "        self.reconstruct = nn.Conv2d(32, 3, kernel_size=3)\n",
    "\n",
    "    def forward(self, x):\n",
    "        # encoder inference \n",
    "        # print(x.shape)\n",
    "        e1 = self.en_conv1(x)\n",
    "        p1 = self.pool(e1)\n",
    "        # print(e1.shape)\n",
    "        # print(p1.shape)\n",
    "        \n",
    "        e2 = self.en_conv2(p1)\n",
    "        p2 = self.pool(e2)\n",
    "        # print(e2.shape)\n",
    "        # print(p2.shape)\n",
    "        \n",
    "        e3 = self.en_conv3(p2)\n",
    "        p3 = self.pool(e3)\n",
    "        # print(e3.shape)\n",
    "        # print(p3.shape)\n",
    "        \n",
    "        e4 = self.en_conv4(p3)\n",
    "        p4 = self.pool(e4)\n",
    "        # print(e4.shape)\n",
    "        # print(p4.shape)\n",
    "        # bottleneck inference\n",
    "        b = self.conv(p4)\n",
    "        \n",
    "        # decoder inference \n",
    "        d4 = self.de_conv4(b,e4)\n",
    "        d3 = self.de_conv3(d4,e3)\n",
    "        d2 = self.de_conv2(d3,e2)\n",
    "        d1 = self.de_conv1(d2,e1)\n",
    "\n",
    "        # reconstruct image\n",
    "        colored_image = self.reconstruct(d1)\n",
    "\n",
    "\n",
    "        \n",
    "        return colored_image"
   ]
  },
  {
   "cell_type": "code",
   "execution_count": 16,
   "metadata": {},
   "outputs": [
    {
     "ename": "",
     "evalue": "",
     "output_type": "error",
     "traceback": [
      "\u001b[1;31mCanceled future for execute_request message before replies were done"
     ]
    },
    {
     "ename": "",
     "evalue": "",
     "output_type": "error",
     "traceback": [
      "\u001b[1;31mThe Kernel crashed while executing code in the the current cell or a previous cell. Please review the code in the cell(s) to identify a possible cause of the failure. Click <a href='https://aka.ms/vscodeJupyterKernelCrash'>here</a> for more info. View Jupyter <a href='command:jupyter.viewOutput'>log</a> for further details."
     ]
    }
   ],
   "source": [
    "from torch import optim\n",
    "device = torch.device(\"cpu\")\n",
    "# Set up training parameters\n",
    "lr = 0.001\n",
    "num_epochs = 10\n",
    "\n",
    "# Create data loaders\n",
    "transform = transforms.Compose([\n",
    "    transforms.ToTensor()\n",
    "])\n",
    "\n",
    "# Initialize your U-Net model\n",
    "model = UNet()\n",
    "\n",
    "# Define loss function and optimizer\n",
    "criterion = nn.MSELoss()\n",
    "optimizer = optim.Adam(model.parameters(), lr=lr)\n",
    "\n",
    "# Train the model\n",
    "model.train()\n",
    "\n",
    "for epoch in range(num_epochs):\n",
    "    running_loss = 0.0\n",
    "    for grayscale_images, colored_images in train_loader:\n",
    "        grayscale_images = grayscale_images.to(device)\n",
    "        colored_images = colored_images.to(device)\n",
    "\n",
    "        # print(grayscale_images.shape)\n",
    "\n",
    "        optimizer.zero_grad()\n",
    "\n",
    "        # Forward pass\n",
    "        predicted_images = model(grayscale_images)\n",
    "\n",
    "        # Compute the loss\n",
    "        loss = criterion(predicted_images, colored_images)\n",
    "\n",
    "        # Backpropagation and weight updates\n",
    "        loss.backward()\n",
    "        optimizer.step()\n",
    "\n",
    "        running_loss += loss.item()\n",
    "\n",
    "    epoch_loss = running_loss / len(train_loader)\n",
    "    print(f\"Epoch [{epoch + 1}/{num_epochs}], Loss: {epoch_loss:.4f}\")\n"
   ]
  },
  {
   "cell_type": "code",
   "execution_count": null,
   "metadata": {},
   "outputs": [],
   "source": []
  }
 ],
 "metadata": {
  "kernelspec": {
   "display_name": "Python 3",
   "language": "python",
   "name": "python3"
  },
  "language_info": {
   "codemirror_mode": {
    "name": "ipython",
    "version": 3
   },
   "file_extension": ".py",
   "mimetype": "text/x-python",
   "name": "python",
   "nbconvert_exporter": "python",
   "pygments_lexer": "ipython3",
   "version": "3.8.10"
  },
  "orig_nbformat": 4
 },
 "nbformat": 4,
 "nbformat_minor": 2
}
