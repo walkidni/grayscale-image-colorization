{
 "cells": [
  {
   "cell_type": "code",
   "execution_count": 1,
   "metadata": {},
   "outputs": [],
   "source": [
    "from torch import nn\n",
    "from torch.utils.data import DataLoader\n",
    "from torchvision import datasets\n",
    "import torchvision.transforms as transforms"
   ]
  },
  {
   "cell_type": "code",
   "execution_count": 2,
   "metadata": {},
   "outputs": [],
   "source": [
    "relu = nn.ReLU()\n",
    "\n",
    "class DoubleConv(nn.Module):\n",
    "    def __init__(self, in_channels, out_channels):\n",
    "        self.conv1 = nn.Conv2d(in_channels, out_channels, kernel_size=3)\n",
    "        self.conv2 = nn.Conv2d(in_channels, out_channels, kernel_size=3)\n",
    "\n",
    "    def forward(self, x):\n",
    "        x = self.conv1(x)\n",
    "        x = relu(x)\n",
    "        x = self.conv2(x)\n",
    "        x = relu(x)\n",
    "        return x\n"
   ]
  },
  {
   "cell_type": "code",
   "execution_count": 3,
   "metadata": {},
   "outputs": [],
   "source": [
    "class DecoderConv(nn.Module):\n",
    "    def __init__(self, in_channels, out_channels):\n",
    "        # output_size = (input_size - 1) * stride + kernel_size - 2 * padding\n",
    "        self.up_conv = nn.ConvTranspose2d(in_channels, out_channels, kernel_size=2, stride=2) \n",
    "        self.conv = DoubleConv(out_channels, out_channels)\n",
    "\n",
    "    def forward(self, x, x1):\n",
    "        y1 = self.up_conv(x)\n",
    "        y2 = torch.cat((y1, x1))\n",
    "        y = self.conv(y2)\n",
    "        return y"
   ]
  },
  {
   "cell_type": "code",
   "execution_count": 4,
   "metadata": {},
   "outputs": [],
   "source": [
    "class UNet(nn.Module):\n",
    "    def __init__(self, input_channels=1):\n",
    "        super().__init__()\n",
    "\n",
    "        # non trainable layers\n",
    "        self.pool = nn.MaxPool2d(kernel_size=2)\n",
    "        \n",
    "        # trainable layers\n",
    "        ## encoder \n",
    "        self.en_conv1 = DoubleConv(input_channels,32)\n",
    "        self.en_conv2 = DoubleConv(32,64)\n",
    "        self.en_conv3 = DoubleConv(64,128)\n",
    "        self.en_conv4 = DoubleConv(128,256)\n",
    "        \n",
    "        ## bottleneck\n",
    "        self.conv = DoubleConv(256,512)\n",
    "\n",
    "        ## decoder\n",
    "        self.de_conv4 = DecoderConv(512,256)\n",
    "        self.de_conv3 = DecoderConv(256,128)\n",
    "        self.de_conv2 = DecoderConv(128,64)\n",
    "        self.de_conv1 = DecoderConv(64,32)\n",
    "        \n",
    "        ## reconstruct layer\n",
    "        self.reconstruct = nn.Conv2d(32, 3, kernel_size=3)\n",
    "\n",
    "    def forward(self, x):\n",
    "        # encoder inference \n",
    "        e1 = self.en_conv1(x)\n",
    "        p1 = self.pool(e1)\n",
    "        \n",
    "        e2 = self.en_conv2(p1)\n",
    "        p2 = self.pool(e2)\n",
    "        \n",
    "        e3 = self.en_conv3(p2)\n",
    "        p3 = self.pool(e3)\n",
    "        \n",
    "        e4 = self.en_conv3(p3)\n",
    "        p4 = self.pool(e4)\n",
    "        \n",
    "        # bottleneck inference\n",
    "        b = self.conv(e4)\n",
    "        \n",
    "        # decoder inference \n",
    "        d4 = self.de_conv4(b,e4)\n",
    "        d3 = self.de_conv3(d4,e3)\n",
    "        d2 = self.de_conv2(d3,e2)\n",
    "        d1 = self.de_conv1(d2,e1)\n",
    "\n",
    "        # reconstruct image\n",
    "        colored_image = self.reconstruct(d1)\n",
    "\n",
    "\n",
    "        \n",
    "        return colored_image"
   ]
  },
  {
   "cell_type": "code",
   "execution_count": 5,
   "metadata": {},
   "outputs": [],
   "source": [
    "transform = transforms.Compose([\n",
    "    transforms.RandomHorizontalFlip(),\n",
    "    # transforms.RandomCrop(32, padding=4),\n",
    "    transforms.ToTensor(),\n",
    "    transforms.Normalize(mean=[0.5, 0.5, 0.5],\n",
    "                         std=[0.5, 0.5, 0.5])\n",
    "])"
   ]
  },
  {
   "cell_type": "code",
   "execution_count": 7,
   "metadata": {},
   "outputs": [
    {
     "name": "stdout",
     "output_type": "stream",
     "text": [
      "Files already downloaded and verified\n",
      "Files already downloaded and verified\n"
     ]
    }
   ],
   "source": [
    "train_data = datasets.CIFAR100(\n",
    "    root='data',\n",
    "    train=True,\n",
    "    download=True,\n",
    "    transform=transforms.ToTensor()\n",
    ")\n",
    "\n",
    "test_data = datasets.CIFAR100(\n",
    "    root='data',\n",
    "    train=False,\n",
    "    download=True,\n",
    "    transform=transforms.ToTensor()\n",
    ")\n"
   ]
  },
  {
   "cell_type": "code",
   "execution_count": 8,
   "metadata": {},
   "outputs": [],
   "source": [
    "train_data.transform = transform\n",
    "test_data.transform = transform"
   ]
  },
  {
   "cell_type": "code",
   "execution_count": 9,
   "metadata": {},
   "outputs": [],
   "source": [
    "import torch.utils.data as data_utils\n",
    "\n",
    "# Create data loaders\n",
    "batch_size = 128\n",
    "train_loader = data_utils.DataLoader(train_data, batch_size=batch_size, shuffle=True)\n",
    "test_loader = data_utils.DataLoader(test_data, batch_size=batch_size)"
   ]
  },
  {
   "cell_type": "code",
   "execution_count": 11,
   "metadata": {},
   "outputs": [],
   "source": [
    "# import matplotlib.pyplot as plt\n",
    "# import numpy as np\n",
    "\n",
    "# # Get a batch of images\n",
    "# data_iter = iter(train_loader)\n",
    "# images, labels = data_iter.next()\n",
    "\n",
    "# # Plot the images\n",
    "# fig = plt.figure(figsize=(10, 10))\n",
    "# for i in range(25):\n",
    "#     ax = fig.add_subplot(5, 5, i+1, xticks=[], yticks=[])\n",
    "#     img = images[i] / 2 + 0.5 # Unnormalize the image\n",
    "#     img = np.transpose(img.numpy(), (1, 2, 0))\n",
    "#     ax.imshow(img)\n",
    "#     ax.set_title(str(labels[i].item()))\n",
    "plt.show()"
   ]
  },
  {
   "cell_type": "code",
   "execution_count": 12,
   "metadata": {},
   "outputs": [
    {
     "ename": "AttributeError",
     "evalue": "cannot assign module before Module.__init__() call",
     "output_type": "error",
     "traceback": [
      "\u001b[1;31m---------------------------------------------------------------------------\u001b[0m",
      "\u001b[1;31mAttributeError\u001b[0m                            Traceback (most recent call last)",
      "\u001b[1;32mc:\\Users\\walid\\OneDrive\\Documents\\grayscale-image-colorization\\u-net_colorization.ipynb Cell 10\u001b[0m in \u001b[0;36m7\n\u001b[0;32m      <a href='vscode-notebook-cell:/c%3A/Users/walid/OneDrive/Documents/grayscale-image-colorization/u-net_colorization.ipynb#W5sZmlsZQ%3D%3D?line=3'>4</a>\u001b[0m test_loader \u001b[39m=\u001b[39m data_utils\u001b[39m.\u001b[39mDataLoader(test_data, batch_size\u001b[39m=\u001b[39mbatch_size)\n\u001b[0;32m      <a href='vscode-notebook-cell:/c%3A/Users/walid/OneDrive/Documents/grayscale-image-colorization/u-net_colorization.ipynb#W5sZmlsZQ%3D%3D?line=5'>6</a>\u001b[0m \u001b[39m# Initialize the network and optimizer\u001b[39;00m\n\u001b[1;32m----> <a href='vscode-notebook-cell:/c%3A/Users/walid/OneDrive/Documents/grayscale-image-colorization/u-net_colorization.ipynb#W5sZmlsZQ%3D%3D?line=6'>7</a>\u001b[0m net \u001b[39m=\u001b[39m UNet()\n\u001b[0;32m      <a href='vscode-notebook-cell:/c%3A/Users/walid/OneDrive/Documents/grayscale-image-colorization/u-net_colorization.ipynb#W5sZmlsZQ%3D%3D?line=7'>8</a>\u001b[0m optimizer \u001b[39m=\u001b[39m optim\u001b[39m.\u001b[39mAdam(net\u001b[39m.\u001b[39mparameters(), lr\u001b[39m=\u001b[39m\u001b[39m0.001\u001b[39m)\n\u001b[0;32m     <a href='vscode-notebook-cell:/c%3A/Users/walid/OneDrive/Documents/grayscale-image-colorization/u-net_colorization.ipynb#W5sZmlsZQ%3D%3D?line=9'>10</a>\u001b[0m \u001b[39m# Define the loss function\u001b[39;00m\n",
      "\u001b[1;32mc:\\Users\\walid\\OneDrive\\Documents\\grayscale-image-colorization\\u-net_colorization.ipynb Cell 10\u001b[0m in \u001b[0;36m1\n\u001b[0;32m      <a href='vscode-notebook-cell:/c%3A/Users/walid/OneDrive/Documents/grayscale-image-colorization/u-net_colorization.ipynb#W5sZmlsZQ%3D%3D?line=5'>6</a>\u001b[0m \u001b[39mself\u001b[39m\u001b[39m.\u001b[39mpool \u001b[39m=\u001b[39m nn\u001b[39m.\u001b[39mMaxPool2d(kernel_size\u001b[39m=\u001b[39m\u001b[39m2\u001b[39m)\n\u001b[0;32m      <a href='vscode-notebook-cell:/c%3A/Users/walid/OneDrive/Documents/grayscale-image-colorization/u-net_colorization.ipynb#W5sZmlsZQ%3D%3D?line=7'>8</a>\u001b[0m \u001b[39m# trainable layers\u001b[39;00m\n\u001b[0;32m      <a href='vscode-notebook-cell:/c%3A/Users/walid/OneDrive/Documents/grayscale-image-colorization/u-net_colorization.ipynb#W5sZmlsZQ%3D%3D?line=8'>9</a>\u001b[0m \u001b[39m## encoder \u001b[39;00m\n\u001b[1;32m---> <a href='vscode-notebook-cell:/c%3A/Users/walid/OneDrive/Documents/grayscale-image-colorization/u-net_colorization.ipynb#W5sZmlsZQ%3D%3D?line=9'>10</a>\u001b[0m \u001b[39mself\u001b[39m\u001b[39m.\u001b[39men_conv1 \u001b[39m=\u001b[39m DoubleConv(input_channels,\u001b[39m32\u001b[39;49m)\n\u001b[0;32m     <a href='vscode-notebook-cell:/c%3A/Users/walid/OneDrive/Documents/grayscale-image-colorization/u-net_colorization.ipynb#W5sZmlsZQ%3D%3D?line=10'>11</a>\u001b[0m \u001b[39mself\u001b[39m\u001b[39m.\u001b[39men_conv2 \u001b[39m=\u001b[39m DoubleConv(\u001b[39m32\u001b[39m,\u001b[39m64\u001b[39m)\n\u001b[0;32m     <a href='vscode-notebook-cell:/c%3A/Users/walid/OneDrive/Documents/grayscale-image-colorization/u-net_colorization.ipynb#W5sZmlsZQ%3D%3D?line=11'>12</a>\u001b[0m \u001b[39mself\u001b[39m\u001b[39m.\u001b[39men_conv3 \u001b[39m=\u001b[39m DoubleConv(\u001b[39m64\u001b[39m,\u001b[39m128\u001b[39m)\n",
      "\u001b[1;32mc:\\Users\\walid\\OneDrive\\Documents\\grayscale-image-colorization\\u-net_colorization.ipynb Cell 10\u001b[0m in \u001b[0;36m5\n\u001b[0;32m      <a href='vscode-notebook-cell:/c%3A/Users/walid/OneDrive/Documents/grayscale-image-colorization/u-net_colorization.ipynb#W5sZmlsZQ%3D%3D?line=3'>4</a>\u001b[0m \u001b[39mdef\u001b[39;00m \u001b[39m__init__\u001b[39m(\u001b[39mself\u001b[39m, in_channels, out_channels):\n\u001b[1;32m----> <a href='vscode-notebook-cell:/c%3A/Users/walid/OneDrive/Documents/grayscale-image-colorization/u-net_colorization.ipynb#W5sZmlsZQ%3D%3D?line=4'>5</a>\u001b[0m     \u001b[39mself\u001b[39;49m\u001b[39m.\u001b[39;49mconv1 \u001b[39m=\u001b[39m nn\u001b[39m.\u001b[39mConv2d(in_channels, out_channels, kernel_size\u001b[39m=\u001b[39m\u001b[39m3\u001b[39m)\n\u001b[0;32m      <a href='vscode-notebook-cell:/c%3A/Users/walid/OneDrive/Documents/grayscale-image-colorization/u-net_colorization.ipynb#W5sZmlsZQ%3D%3D?line=5'>6</a>\u001b[0m     \u001b[39mself\u001b[39m\u001b[39m.\u001b[39mconv2 \u001b[39m=\u001b[39m nn\u001b[39m.\u001b[39mConv2d(in_channels, out_channels, kernel_size\u001b[39m=\u001b[39m\u001b[39m3\u001b[39m)\n",
      "File \u001b[1;32m~\\AppData\\Local\\Packages\\PythonSoftwareFoundation.Python.3.10_qbz5n2kfra8p0\\LocalCache\\local-packages\\Python310\\site-packages\\torch\\nn\\modules\\module.py:1294\u001b[0m, in \u001b[0;36mModule.__setattr__\u001b[1;34m(self, name, value)\u001b[0m\n\u001b[0;32m   1292\u001b[0m \u001b[39mif\u001b[39;00m \u001b[39misinstance\u001b[39m(value, Module):\n\u001b[0;32m   1293\u001b[0m     \u001b[39mif\u001b[39;00m modules \u001b[39mis\u001b[39;00m \u001b[39mNone\u001b[39;00m:\n\u001b[1;32m-> 1294\u001b[0m         \u001b[39mraise\u001b[39;00m \u001b[39mAttributeError\u001b[39;00m(\n\u001b[0;32m   1295\u001b[0m             \u001b[39m\"\u001b[39m\u001b[39mcannot assign module before Module.__init__() call\u001b[39m\u001b[39m\"\u001b[39m)\n\u001b[0;32m   1296\u001b[0m     remove_from(\u001b[39mself\u001b[39m\u001b[39m.\u001b[39m\u001b[39m__dict__\u001b[39m, \u001b[39mself\u001b[39m\u001b[39m.\u001b[39m_parameters, \u001b[39mself\u001b[39m\u001b[39m.\u001b[39m_buffers, \u001b[39mself\u001b[39m\u001b[39m.\u001b[39m_non_persistent_buffers_set)\n\u001b[0;32m   1297\u001b[0m     modules[name] \u001b[39m=\u001b[39m value\n",
      "\u001b[1;31mAttributeError\u001b[0m: cannot assign module before Module.__init__() call"
     ]
    }
   ],
   "source": [
    "# Initialize the network and optimizer\n",
    "net = UNet()\n",
    "optimizer = optim.Adam(net.parameters(), lr=0.001)\n",
    "\n",
    "# Define the loss function\n",
    "criterion = nn.CrossEntropyLoss()\n",
    "\n",
    "# Train the network\n",
    "num_epochs = 10\n",
    "for epoch in range(num_epochs):\n",
    "    running_loss = 0.0\n",
    "    for i, (inputs, labels) in enumerate(train_loader, 0):\n",
    "        # Zero the gradients\n",
    "        optimizer.zero_grad()\n",
    "\n",
    "        # Forward pass\n",
    "        outputs = net(inputs)\n",
    "\n",
    "        # Compute the loss\n",
    "        loss = criterion(outputs, labels)\n",
    "\n",
    "        # Backward pass and optimization\n",
    "        loss.backward()\n",
    "        optimizer.step()\n",
    "\n",
    "        # Update the running loss\n",
    "        running_loss += loss.item()\n",
    "\n",
    "        # Print the loss every 1000 mini-batches\n",
    "        if (i+1) % 1000 == 0:\n",
    "            print(f'Epoch [{epoch+1}/{num_epochs}], Step [{i+1}/{len(train_loader)}], Loss: {running_loss/1000:.4f}')\n",
    "            running_loss = 0.0\n",
    "\n",
    "print('Finished Training')\n",
    "\n",
    "# Test the network\n",
    "correct = 0\n",
    "total = 0\n",
    "with torch.no_grad():\n",
    "    for inputs, labels in test_loader:\n",
    "        # Forward pass\n",
    "        outputs = net(inputs)\n",
    "\n",
    "        # Get the predicted class\n",
    "        _, predicted = torch.max(outputs.data, 1)\n",
    "\n",
    "        # Compute the accuracy\n",
    "        total += labels.size(0)\n",
    "        correct += (predicted == labels).sum().item()\n",
    "\n",
    "print(f'Test Accuracy: {correct/total:.4f}')"
   ]
  },
  {
   "cell_type": "code",
   "execution_count": null,
   "metadata": {},
   "outputs": [],
   "source": []
  }
 ],
 "metadata": {
  "kernelspec": {
   "display_name": "Python 3",
   "language": "python",
   "name": "python3"
  },
  "language_info": {
   "codemirror_mode": {
    "name": "ipython",
    "version": 3
   },
   "file_extension": ".py",
   "mimetype": "text/x-python",
   "name": "python",
   "nbconvert_exporter": "python",
   "pygments_lexer": "ipython3",
   "version": "3.10.11"
  },
  "orig_nbformat": 4
 },
 "nbformat": 4,
 "nbformat_minor": 2
}
