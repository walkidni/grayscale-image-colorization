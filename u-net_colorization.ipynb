{
 "cells": [
  {
   "cell_type": "code",
   "execution_count": null,
   "metadata": {},
   "outputs": [],
   "source": [
    "import torch\n",
    "from torch import nn\n",
    "from torch.utils.data import DataLoader\n",
    "from torchvision import datasets\n",
    "from torchvision.transforms import ToTensor"
   ]
  },
  {
   "cell_type": "code",
   "execution_count": null,
   "metadata": {},
   "outputs": [],
   "source": [
    "training_data = datasets.CIFAR100(\n",
    "    root='data',\n",
    "    train=True,\n",
    "    download=True,\n",
    "    transform=ToTensor()\n",
    ")\n",
    "\n",
    "test_data = datasets.CIFAR100(\n",
    "    root='data',\n",
    "    train=False,\n",
    "    download=True,\n",
    "    transform=ToTensor()\n",
    ")\n"
   ]
  },
  {
   "cell_type": "code",
   "execution_count": null,
   "metadata": {},
   "outputs": [],
   "source": [
    "class DoubleConv(nn.Module):\n",
    "    def __init__(self, in_channels, out_channels):\n",
    "        self.conv1 = nn.Conv2d(in_channels, out_channels, kernel_size=3)\n",
    "        self.conv2 = nn.Conv2d(in_channels, out_channels, kernel_size=3)\n",
    "\n",
    "    def forward(self, x):\n",
    "        x = self.conv1(x)\n",
    "        x = self.conv2(x)\n",
    "        return x\n"
   ]
  },
  {
   "cell_type": "code",
   "execution_count": null,
   "metadata": {},
   "outputs": [],
   "source": [
    "class DecoderConv(nn.Module):\n",
    "    def __init__(self, in_channels, out_channels):\n",
    "        # output_size = (input_size - 1) * stride + kernel_size - 2 * padding\n",
    "        self.up_conv = nn.ConvTranspose2d(in_channels, out_channels, kernel_size=2, stride=2) \n",
    "        self.conv = DoubleConv(out_channels, out_channels)\n",
    "\n",
    "    def forward(self, x):\n",
    "        x = self.up_conv(x)\n",
    "        x = self.conv(x)\n",
    "        return x"
   ]
  },
  {
   "cell_type": "code",
   "execution_count": null,
   "metadata": {},
   "outputs": [],
   "source": [
    "class UNet(nn.Module):\n",
    "    def __init__(self, input_channels):\n",
    "        super().__init__()\n",
    "\n",
    "        # non trainable layers\n",
    "        self.relu = nn.ReLU()\n",
    "        self.pool = nn.MaxPool2d(kernel_size=2)\n",
    "        \n",
    "        # trainable layers\n",
    "        ## encoder \n",
    "        self.en_conv1 = DoubleConv(input_channels,32)\n",
    "        self.en_conv2 = DoubleConv(32,64)\n",
    "        self.en_conv3 = DoubleConv(64,128)\n",
    "        self.en_conv4 = DoubleConv(128,256)\n",
    "        \n",
    "        ## bottleneck\n",
    "        self.conv = DoubleConv(256,512)\n",
    "\n",
    "        ## decoder\n",
    "        self.de_conv4 = DecoderConv(512,256)\n",
    "        self.de_conv3 = DecoderConv(256,128)\n",
    "        self.de_conv2 = DecoderConv(128,64)\n",
    "        self.de_conv1 = DecoderConv(64,32)\n",
    "\n",
    "    def forward(self, x):\n",
    "        \n",
    "        return None"
   ]
  }
 ],
 "metadata": {
  "kernelspec": {
   "display_name": "Python 3",
   "language": "python",
   "name": "python3"
  },
  "language_info": {
   "name": "python",
   "version": "3.8.10"
  },
  "orig_nbformat": 4
 },
 "nbformat": 4,
 "nbformat_minor": 2
}
