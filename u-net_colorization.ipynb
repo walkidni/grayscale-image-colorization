{
 "cells": [
  {
   "cell_type": "code",
   "execution_count": null,
   "metadata": {},
   "outputs": [],
   "source": [
    "impopt torch\n",
    "from torch import nn\n",
    "from torch.utils.data import DataLoader\n",
    "from torchvision import datasets\n",
    "from torchvision.transforms import ToTensor"
   ]
  },
  {
   "cell_type": "code",
   "execution_count": null,
   "metadata": {},
   "outputs": [],
   "source": [
    "training_data = datasets.CIFAR100(\n",
    "    root='data',\n",
    "    train=True,\n",
    "    download=True,\n",
    "    transform=ToTensor()\n",
    ")\n",
    "\n",
    "test_data = datasets.CIFAR100(\n",
    "    root='data',\n",
    "    train=False,\n",
    "    download=True,\n",
    "    transform=ToTensor()\n",
    ")\n"
   ]
  },
  {
   "cell_type": "code",
   "execution_count": null,
   "metadata": {},
   "outputs": [],
   "source": [
    "relu = nn.ReLU()\n",
    "\n",
    "class DoubleConv(nn.Module):\n",
    "    def __init__(self, in_channels, out_channels):\n",
    "        self.conv1 = nn.Conv2d(in_channels, out_channels, kernel_size=3)\n",
    "        self.conv2 = nn.Conv2d(in_channels, out_channels, kernel_size=3)\n",
    "\n",
    "    def forward(self, x):\n",
    "        x = self.conv1(x)\n",
    "        x = relu(x)\n",
    "        x = self.conv2(x)\n",
    "        x = relu(x)\n",
    "        return x\n"
   ]
  },
  {
   "cell_type": "code",
   "execution_count": null,
   "metadata": {},
   "outputs": [],
   "source": [
    "class DecoderConv(nn.Module):\n",
    "    def __init__(self, in_channels, out_channels):\n",
    "        # output_size = (input_size - 1) * stride + kernel_size - 2 * padding\n",
    "        self.up_conv = nn.ConvTranspose2d(in_channels, out_channels, kernel_size=2, stride=2) \n",
    "        self.conv = DoubleConv(out_channels, out_channels)\n",
    "\n",
    "    def forward(self, x, x1):\n",
    "        y1 = self.up_conv(x)\n",
    "        y2 = torch.cat((y1, x1))\n",
    "        y = self.conv(y2)\n",
    "        return y"
   ]
  },
  {
   "cell_type": "code",
   "execution_count": null,
   "metadata": {},
   "outputs": [],
   "source": [
    "class UNet(nn.Module):\n",
    "    def __init__(self, input_channels=1):\n",
    "        super().__init__()\n",
    "\n",
    "        # non trainable layers\n",
    "        self.pool = nn.MaxPool2d(kernel_size=2)\n",
    "        \n",
    "        # trainable layers\n",
    "        ## encoder \n",
    "        self.en_conv1 = DoubleConv(input_channels,32)\n",
    "        self.en_conv2 = DoubleConv(32,64)\n",
    "        self.en_conv3 = DoubleConv(64,128)\n",
    "        self.en_conv4 = DoubleConv(128,256)\n",
    "        \n",
    "        ## bottleneck\n",
    "        self.conv = DoubleConv(256,512)\n",
    "\n",
    "        ## decoder\n",
    "        self.de_conv4 = DecoderConv(512,256)\n",
    "        self.de_conv3 = DecoderConv(256,128)\n",
    "        self.de_conv2 = DecoderConv(128,64)\n",
    "        self.de_conv1 = DecoderConv(64,32)\n",
    "        \n",
    "        ## reconstruct layer\n",
    "        self.reconstruct = nn.Conv2d(32, 3, kernel_size=3)\n",
    "\n",
    "    def forward(self, x):\n",
    "        # encoder inference \n",
    "        e1 = self.en_conv1(x)\n",
    "        p1 = self.pool(e1)\n",
    "        \n",
    "        e2 = self.en_conv2(p1)\n",
    "        p2 = self.pool(e2)\n",
    "        \n",
    "        e3 = self.en_conv3(p2)\n",
    "        p3 = self.pool(e3)\n",
    "        \n",
    "        e4 = self.en_conv3(p3)\n",
    "        p4 = self.pool(e4)\n",
    "        \n",
    "        # bottleneck inference\n",
    "        b = self.conv(e4)\n",
    "        \n",
    "        # decoder inference \n",
    "        d4 = self.de_conv4(b,e4)\n",
    "        d3 = self.de_conv3(d4,e3)\n",
    "        d2 = self.de_conv2(d3,e2)\n",
    "        d1 = self.de_conv1(d2,e1)\n",
    "\n",
    "        # reconstruct image\n",
    "        colored_image = self.reconstruct(d1)\n",
    "\n",
    "\n",
    "        \n",
    "        return colored_image"
   ]
  }
 ],
 "metadata": {
  "kernelspec": {
   "display_name": "Python 3",
   "language": "python",
   "name": "python3"
  },
  "language_info": {
   "name": "python",
   "version": "3.8.10"
  },
  "orig_nbformat": 4
 },
 "nbformat": 4,
 "nbformat_minor": 2
}
