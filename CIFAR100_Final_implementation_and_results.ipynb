{
  "cells": [
    {
      "cell_type": "markdown",
      "metadata": {
        "id": "view-in-github",
        "colab_type": "text"
      },
      "source": [
        "<a href=\"https://colab.research.google.com/github/walkidni/grayscale-image-colorization/blob/main/CIFAR100_Final_implementation_and_results.ipynb\" target=\"_parent\"><img src=\"https://colab.research.google.com/assets/colab-badge.svg\" alt=\"Open In Colab\"/></a>"
      ]
    },
    {
      "cell_type": "code",
      "execution_count": 1,
      "metadata": {
        "colab": {
          "base_uri": "https://localhost:8080/"
        },
        "id": "SrtHYW4U88UE",
        "outputId": "0b2d9527-2e32-458d-8d42-e0a81dc59ef8"
      },
      "outputs": [
        {
          "output_type": "stream",
          "name": "stdout",
          "text": [
            "Mounted at /content/drive\n",
            "/content/drive/MyDrive/colorization\n"
          ]
        }
      ],
      "source": [
        "from google.colab import drive\n",
        "drive.mount('/content/drive')\n",
        "%cd '/content/drive/MyDrive/colorization'"
      ]
    },
    {
      "cell_type": "code",
      "execution_count": 2,
      "metadata": {
        "id": "qraVpmb99Cv1"
      },
      "outputs": [],
      "source": [
        "import torch\n",
        "from torch import nn\n",
        "from torch.utils.data import DataLoader, Dataset, RandomSampler\n",
        "from torchvision import datasets, transforms\n",
        "import numpy as np\n",
        "import matplotlib.pyplot as plt\n",
        "from torch import optim\n",
        "from tqdm import tqdm\n",
        "from PIL import Image\n",
        "from skimage import color\n",
        "device = torch.device('cuda' if torch.cuda.is_available() else 'cpu')\n"
      ]
    },
    {
      "cell_type": "markdown",
      "metadata": {
        "id": "Fl9yFV8ALzox"
      },
      "source": [
        "# I. Data preparation"
      ]
    },
    {
      "cell_type": "markdown",
      "metadata": {
        "id": "opGdgU4EYCrI"
      },
      "source": [
        "## 0. utils"
      ]
    },
    {
      "cell_type": "code",
      "execution_count": 3,
      "metadata": {
        "id": "kqh8JQZoYGeR"
      },
      "outputs": [],
      "source": [
        "\n",
        "def stack_lab(l, ab):\n",
        "  return torch.cat((l, ab), dim=-3)\n",
        "\n",
        "def lab2rgb(lab, to_numpy):\n",
        "  dims = len(lab.shape)\n",
        "  if lab.requires_grad :\n",
        "    lab = lab.detach()\n",
        "  lab = lab.permute((1,2,0)) if dims==3 else lab.permute((0,2,3,1))\n",
        "  rgb = color.lab2rgb(lab)\n",
        "  if to_numpy:\n",
        "    return rgb\n",
        "  else:\n",
        "    return torch.from_numpy(rgb).permute(2,0,1) if dims==3 else torch.from_numpy(rgb).permute((0,3,1,2))\n",
        "\n",
        "def to_rgb(l, ab, to_numpy=True):\n",
        "  lab = stack_lab(l,ab)\n",
        "  rgb = lab2rgb(lab, to_numpy = to_numpy)\n",
        "  return rgb"
      ]
    },
    {
      "cell_type": "markdown",
      "metadata": {
        "id": "QC8p8OOSL5sH"
      },
      "source": [
        "## 1. using CIFAR100"
      ]
    },
    {
      "cell_type": "code",
      "execution_count": 4,
      "metadata": {
        "id": "5qIOcZQP9Cv3"
      },
      "outputs": [],
      "source": [
        "class labColorizationDataset(Dataset):\n",
        "    def __init__(self,root='./data', train=True, transform=None):\n",
        "        self.cifar100 = datasets.CIFAR100(root=root, train=train, download=True, transform=transform)\n",
        "\n",
        "    def __len__(self):\n",
        "        return len(self.cifar100)\n",
        "\n",
        "    def __getitem__(self, index):\n",
        "        image, label = self.cifar100[index]\n",
        "\n",
        "        lab_image = color.rgb2lab(image)\n",
        "        lab_image = lab_image.astype(np.float32)\n",
        "        L, ab = lab_image[:,:,0], lab_image[:,:,1:]\n",
        "        L = torch.from_numpy(L).unsqueeze(dim=0)\n",
        "        ab = torch.from_numpy(ab).permute((2,0,1))\n",
        "\n",
        "        return L, ab"
      ]
    },
    {
      "cell_type": "code",
      "execution_count": 5,
      "metadata": {
        "colab": {
          "base_uri": "https://localhost:8080/"
        },
        "id": "Y__On6019Cv4",
        "outputId": "0a06355f-1e70-421d-be5e-64ef4c799567"
      },
      "outputs": [
        {
          "output_type": "stream",
          "name": "stdout",
          "text": [
            "Files already downloaded and verified\n",
            "Files already downloaded and verified\n"
          ]
        },
        {
          "output_type": "execute_result",
          "data": {
            "text/plain": [
              "(50000, 10000)"
            ]
          },
          "metadata": {},
          "execution_count": 5
        }
      ],
      "source": [
        "train_data = labColorizationDataset(\n",
        "    root='./data',\n",
        "    train=True,\n",
        "    transform = None\n",
        ")\n",
        "\n",
        "test_data = labColorizationDataset(\n",
        "    root='./data',\n",
        "    train=False,\n",
        "    transform = None\n",
        ")\n",
        "len(train_data), len(test_data)\n"
      ]
    },
    {
      "cell_type": "code",
      "execution_count": null,
      "metadata": {
        "colab": {
          "base_uri": "https://localhost:8080/"
        },
        "id": "dE9XRq3SlbgG",
        "outputId": "f41a1fa0-9e3e-451e-96d3-3abad7726ca0"
      },
      "outputs": [
        {
          "output_type": "execute_result",
          "data": {
            "text/plain": [
              "(torch.Size([1, 32, 32]), torch.Size([2, 32, 32]))"
            ]
          },
          "metadata": {},
          "execution_count": 6
        }
      ],
      "source": [
        "gray, chrome = train_data[69]\n",
        "gray.shape, chrome.shape"
      ]
    },
    {
      "cell_type": "code",
      "execution_count": null,
      "metadata": {
        "colab": {
          "base_uri": "https://localhost:8080/",
          "height": 448
        },
        "id": "FoxfOmbIhXqN",
        "outputId": "2c55638f-8a75-484d-81d0-5c154beed750"
      },
      "outputs": [
        {
          "output_type": "execute_result",
          "data": {
            "text/plain": [
              "<matplotlib.image.AxesImage at 0x7faf47c7af50>"
            ]
          },
          "metadata": {},
          "execution_count": 7
        },
        {
          "output_type": "display_data",
          "data": {
            "text/plain": [
              "<Figure size 640x480 with 1 Axes>"
            ],
            "image/png": "[encoded data removed]"
          },
          "metadata": {}
        }
      ],
      "source": [
        "plt.imshow(gray[0])"
      ]
    },
    {
      "cell_type": "code",
      "execution_count": null,
      "metadata": {
        "colab": {
          "base_uri": "https://localhost:8080/",
          "height": 448
        },
        "id": "g48w2W66uKeD",
        "outputId": "8f901f67-54ba-4026-8aca-6e66f32418c4"
      },
      "outputs": [
        {
          "output_type": "execute_result",
          "data": {
            "text/plain": [
              "<matplotlib.image.AxesImage at 0x7fae784fc6d0>"
            ]
          },
          "metadata": {},
          "execution_count": 8
        },
        {
          "output_type": "display_data",
          "data": {
            "text/plain": [
              "<Figure size 640x480 with 1 Axes>"
            ],
            "image/png": "[encoded data removed]"
          },
          "metadata": {}
        }
      ],
      "source": [
        "rgb = to_rgb(gray, chrome)\n",
        "plt.imshow(rgb)"
      ]
    },
    {
      "cell_type": "markdown",
      "metadata": {
        "id": "QPjWXnUfMWy_"
      },
      "source": [
        "# II. Preparing the Model"
      ]
    },
    {
      "cell_type": "code",
      "execution_count": 6,
      "metadata": {
        "id": "B0Weditw9Cv8"
      },
      "outputs": [],
      "source": [
        "class DoubleConv(nn.Module):\n",
        "    def __init__(self, in_channels, out_channels, batch_norm=False):\n",
        "        super().__init__()\n",
        "        self.batch_norm = batch_norm\n",
        "        self.conv1 = nn.Conv2d(in_channels, out_channels, kernel_size=3, padding=1)\n",
        "        self.conv2 = nn.Conv2d(out_channels, out_channels, kernel_size=3, padding=1)\n",
        "        if self.batch_norm:\n",
        "          self.bn = nn.BatchNorm2d(out_channels)\n",
        "\n",
        "    def forward(self, x):\n",
        "        x = nn.ReLU()(self.conv1(x))\n",
        "        x = nn.ReLU()(self.conv2(x))\n",
        "        if self.batch_norm:\n",
        "          x = self.bn(x)\n",
        "        return x\n"
      ]
    },
    {
      "cell_type": "code",
      "execution_count": 7,
      "metadata": {
        "id": "cb32Nwx59Cv8"
      },
      "outputs": [],
      "source": [
        "class SkipDecoderConv(nn.Module):\n",
        "    def __init__(self, in_channels, out_channels, batch_norm=False):\n",
        "        super().__init__()\n",
        "        # output_size = (input_size - 1) * stride + kernel_size - 2 * padding\n",
        "        self.up_conv = nn.ConvTranspose2d(in_channels, out_channels, kernel_size=2, stride=2)\n",
        "        self.conv = DoubleConv(out_channels + out_channels, out_channels, batch_norm)\n",
        "\n",
        "    def forward(self, x, x1):\n",
        "        y1 = self.up_conv(x)\n",
        "        y2 = torch.cat((y1, x1), dim=-3)\n",
        "        y = self.conv(y2)\n",
        "        return y\n",
        "\n",
        "class NoSkipDecoderConv(nn.Module):\n",
        "    def __init__(self, in_channels, out_channels, batch_norm=False):\n",
        "        super().__init__()\n",
        "        # output_size = (input_size - 1) * stride + kernel_size - 2 * padding\n",
        "        self.up_conv = nn.ConvTranspose2d(in_channels, out_channels, kernel_size=2, stride=2)\n",
        "        self.conv = DoubleConv(out_channels, out_channels, batch_norm)\n",
        "\n",
        "    def forward(self, x):\n",
        "        y1 = self.up_conv(x)\n",
        "        y = self.conv(y1)\n",
        "        return y"
      ]
    },
    {
      "cell_type": "code",
      "execution_count": 8,
      "metadata": {
        "id": "BEElEZW-9Cv9"
      },
      "outputs": [],
      "source": [
        "class UNet(nn.Module):\n",
        "    def __init__(self, size, skip, batch_norm=False):\n",
        "        super().__init__()\n",
        "        self.skip = skip\n",
        "\n",
        "        # non trainable layers\n",
        "        self.pool = nn.MaxPool2d(kernel_size=2)\n",
        "\n",
        "        # trainable layers\n",
        "        ## encoder\n",
        "        self.en_conv1 = DoubleConv(1,size, batch_norm)\n",
        "        self.en_conv2 = DoubleConv(size,size*2, batch_norm)\n",
        "        self.en_conv3 = DoubleConv(size*2,size*4, batch_norm)\n",
        "        self.en_conv4 = DoubleConv(size*4,size*8, batch_norm)\n",
        "\n",
        "        ## bottleneck\n",
        "        self.conv = DoubleConv(size*8,size*16, batch_norm)\n",
        "\n",
        "        ## decoder\n",
        "        self.de_conv4 = SkipDecoderConv(size*16,size*8, batch_norm) if self.skip else NoSkipDecoderConv(size*16,size*8, batch_norm)\n",
        "        self.de_conv3 = SkipDecoderConv(size*8,size*4, batch_norm) if self.skip else NoSkipDecoderConv(size*8,size*4, batch_norm)\n",
        "        self.de_conv2 = SkipDecoderConv(size*4,size*2, batch_norm) if self.skip else NoSkipDecoderConv(size*4,size*2, batch_norm)\n",
        "        self.de_conv1 = SkipDecoderConv(size*2,size, batch_norm) if self.skip else NoSkipDecoderConv(size*2,size, batch_norm)\n",
        "\n",
        "        ## reconstruct layer\n",
        "        self.reconstruct = nn.Conv2d(size, 2, kernel_size=3, padding=1)\n",
        "\n",
        "    def forward(self, x):\n",
        "      # encoder inference\n",
        "        e1 = self.en_conv1(x)\n",
        "        p1 = self.pool(e1)\n",
        "        e2 = self.en_conv2(p1)\n",
        "        p2 = self.pool(e2)\n",
        "        e3 = self.en_conv3(p2)\n",
        "        p3 = self.pool(e3)\n",
        "        e4 = self.en_conv4(p3)\n",
        "        p4 = self.pool(e4)\n",
        "      # bottleneck inference\n",
        "        b = self.conv(p4)\n",
        "      # decoder inference\n",
        "        d4 = self.de_conv4(b,e4) if self.skip else self.de_conv4(b)\n",
        "        d3 = self.de_conv3(d4,e3) if self.skip else self.de_conv3(d4)\n",
        "        d2 = self.de_conv2(d3,e2) if self.skip else self.de_conv2(d3)\n",
        "        d1 = self.de_conv1(d2,e1) if self.skip else self.de_conv1(d2)\n",
        "\n",
        "      # reconstruct image\n",
        "        colors = self.reconstruct(d1)\n",
        "        # print(colored_image.shape)\n",
        "\n",
        "        return colors"
      ]
    },
    {
      "cell_type": "markdown",
      "metadata": {
        "id": "EggGRVcCM_IU"
      },
      "source": [
        "# III. Training Experimentation"
      ]
    },
    {
      "cell_type": "markdown",
      "source": [
        "## 0. utils"
      ],
      "metadata": {
        "id": "D57q2Prbvbmi"
      }
    },
    {
      "cell_type": "code",
      "execution_count": 9,
      "metadata": {
        "id": "UtC3y689-qlp"
      },
      "outputs": [],
      "source": [
        "from tqdm import tqdm\n",
        "\n",
        "def train_loop(model, loader, optimizer, backprop_loss=1):\n",
        "    model.train()\n",
        "    running_loss1 = 0.0\n",
        "    running_loss2 = 0.0\n",
        "\n",
        "    for grayscale_images, colored_images in tqdm(loader, leave=False):\n",
        "        grayscale_images = grayscale_images.to(device)\n",
        "        colored_images = colored_images.to(device)\n",
        "        optimizer.zero_grad()\n",
        "\n",
        "        # Forward pass\n",
        "        predicted_images = model(grayscale_images)\n",
        "\n",
        "        # Compute the loss\n",
        "        loss1 = nn.L1Loss()(predicted_images, colored_images)\n",
        "        loss2 = nn.MSELoss()(predicted_images, colored_images)\n",
        "\n",
        "        # Backpropagation and weight updates\n",
        "        loss = loss1 + loss2 if backprop_loss==0 else loss1 if backprop_loss==1 else loss2\n",
        "        loss.backward()\n",
        "        optimizer.step()\n",
        "\n",
        "        running_loss1 += loss1.item()\n",
        "        running_loss2 += loss2.item()\n",
        "\n",
        "    # Calculate average loss\n",
        "    average_loss1 = running_loss1 / len(loader)\n",
        "    average_loss2 = running_loss2 / len(loader)\n",
        "\n",
        "    return average_loss1, average_loss2\n",
        "\n",
        "def plot_loss(loss, title, save_path):\n",
        "    epochs = range(len(loss))\n",
        "\n",
        "    # Plotting the losses\n",
        "    plt.plot(epochs, loss)\n",
        "    # Customize the plot\n",
        "    plt.xlabel('Epochs')\n",
        "    plt.ylabel('Loss')\n",
        "    plt.title(title)\n",
        "\n",
        "    # Save the plot\n",
        "    plt.savefig(save_path)\n",
        "    plt.show()\n",
        "\n",
        "    # Close the plot to free up resources\n",
        "    plt.close()\n"
      ]
    },
    {
      "cell_type": "markdown",
      "source": [
        "# Train optimal architecture of model (based on previous analysis)"
      ],
      "metadata": {
        "id": "cy_rBU_WLQmo"
      }
    },
    {
      "cell_type": "code",
      "source": [
        "# config\n",
        "model_name = 'FINAL-CIFAR-L2'\n",
        "model_size = 64\n",
        "skip_connections = True\n",
        "batch_norm = True\n",
        "backprop_loss = 2\n",
        "batch_size = 256\n",
        "\n",
        "\n",
        "# Initialize U-Net model and loader and optimizer\n",
        "trainloader = DataLoader(train_data, batch_size=batch_size, shuffle=True)\n",
        "\n",
        "model = UNet(model_size, skip_connections, batch_norm)\n",
        "model.to(device)\n",
        "\n",
        "optimizer = optim.Adam(model.parameters())\n",
        "\n",
        "# training loop\n",
        "l1_hist = []\n",
        "l2_hist = []"
      ],
      "metadata": {
        "id": "YBqMkurSWn0x"
      },
      "execution_count": 24,
      "outputs": []
    },
    {
      "cell_type": "code",
      "source": [
        "epochs = 50\n",
        "for epoch in range(epochs):\n",
        "    l1, l2 = train_loop(model, trainloader, optimizer, backprop_loss)\n",
        "    print(f\"Epoch {epoch+1}/{epochs}:  MAE Loss: {l1}, MSE Loss: {l2}\")\n",
        "    l1_hist.append(l1)\n",
        "    l2_hist.append(l2)"
      ],
      "metadata": {
        "colab": {
          "base_uri": "https://localhost:8080/"
        },
        "id": "onuzBnKzLgg_",
        "outputId": "c2fb59b6-c575-419e-bb54-0324a29425dc"
      },
      "execution_count": 25,
      "outputs": [
        {
          "output_type": "stream",
          "name": "stderr",
          "text": []
        },
        {
          "output_type": "stream",
          "name": "stdout",
          "text": [
            "Epoch 1/50:  MAE Loss: 10.452095430724475, MSE Loss: 243.28490035387935\n"
          ]
        },
        {
          "output_type": "stream",
          "name": "stderr",
          "text": []
        },
        {
          "output_type": "stream",
          "name": "stdout",
          "text": [
            "Epoch 2/50:  MAE Loss: 10.11163243468927, MSE Loss: 224.57099712138273\n"
          ]
        },
        {
          "output_type": "stream",
          "name": "stderr",
          "text": []
        },
        {
          "output_type": "stream",
          "name": "stdout",
          "text": [
            "Epoch 3/50:  MAE Loss: 9.984166490788363, MSE Loss: 218.64174776661153\n"
          ]
        },
        {
          "output_type": "stream",
          "name": "stderr",
          "text": []
        },
        {
          "output_type": "stream",
          "name": "stdout",
          "text": [
            "Epoch 4/50:  MAE Loss: 9.902430904154874, MSE Loss: 214.60556980055205\n"
          ]
        },
        {
          "output_type": "stream",
          "name": "stderr",
          "text": []
        },
        {
          "output_type": "stream",
          "name": "stdout",
          "text": [
            "Epoch 5/50:  MAE Loss: 9.786106119350512, MSE Loss: 209.8140537495516\n"
          ]
        },
        {
          "output_type": "stream",
          "name": "stderr",
          "text": []
        },
        {
          "output_type": "stream",
          "name": "stdout",
          "text": [
            "Epoch 6/50:  MAE Loss: 9.68262294847138, MSE Loss: 204.79886432569853\n"
          ]
        },
        {
          "output_type": "stream",
          "name": "stderr",
          "text": []
        },
        {
          "output_type": "stream",
          "name": "stdout",
          "text": [
            "Epoch 7/50:  MAE Loss: 9.567194598061699, MSE Loss: 199.45861473862007\n"
          ]
        },
        {
          "output_type": "stream",
          "name": "stderr",
          "text": []
        },
        {
          "output_type": "stream",
          "name": "stdout",
          "text": [
            "Epoch 8/50:  MAE Loss: 9.475653273718697, MSE Loss: 195.10968788302674\n"
          ]
        },
        {
          "output_type": "stream",
          "name": "stderr",
          "text": []
        },
        {
          "output_type": "stream",
          "name": "stdout",
          "text": [
            "Epoch 9/50:  MAE Loss: 9.353803006970153, MSE Loss: 189.5905172386948\n"
          ]
        },
        {
          "output_type": "stream",
          "name": "stderr",
          "text": []
        },
        {
          "output_type": "stream",
          "name": "stdout",
          "text": [
            "Epoch 10/50:  MAE Loss: 9.180012240701792, MSE Loss: 181.41675108306262\n"
          ]
        },
        {
          "output_type": "stream",
          "name": "stderr",
          "text": []
        },
        {
          "output_type": "stream",
          "name": "stdout",
          "text": [
            "Epoch 11/50:  MAE Loss: 8.988868105168246, MSE Loss: 173.40090919027523\n"
          ]
        },
        {
          "output_type": "stream",
          "name": "stderr",
          "text": []
        },
        {
          "output_type": "stream",
          "name": "stdout",
          "text": [
            "Epoch 12/50:  MAE Loss: 8.770972621684171, MSE Loss: 164.24263459808972\n"
          ]
        },
        {
          "output_type": "stream",
          "name": "stderr",
          "text": []
        },
        {
          "output_type": "stream",
          "name": "stdout",
          "text": [
            "Epoch 13/50:  MAE Loss: 8.5027593641865, MSE Loss: 154.30136626107353\n"
          ]
        },
        {
          "output_type": "stream",
          "name": "stderr",
          "text": []
        },
        {
          "output_type": "stream",
          "name": "stdout",
          "text": [
            "Epoch 14/50:  MAE Loss: 8.21696030850313, MSE Loss: 143.9306578733483\n"
          ]
        },
        {
          "output_type": "stream",
          "name": "stderr",
          "text": []
        },
        {
          "output_type": "stream",
          "name": "stdout",
          "text": [
            "Epoch 15/50:  MAE Loss: 7.937518051692417, MSE Loss: 134.42774328893546\n"
          ]
        },
        {
          "output_type": "stream",
          "name": "stderr",
          "text": []
        },
        {
          "output_type": "stream",
          "name": "stdout",
          "text": [
            "Epoch 16/50:  MAE Loss: 7.6637281714653485, MSE Loss: 125.49627946347607\n"
          ]
        },
        {
          "output_type": "stream",
          "name": "stderr",
          "text": []
        },
        {
          "output_type": "stream",
          "name": "stdout",
          "text": [
            "Epoch 17/50:  MAE Loss: 7.418474657194955, MSE Loss: 117.49738233916614\n"
          ]
        },
        {
          "output_type": "stream",
          "name": "stderr",
          "text": []
        },
        {
          "output_type": "stream",
          "name": "stdout",
          "text": [
            "Epoch 18/50:  MAE Loss: 7.1843700749533514, MSE Loss: 110.26046542732082\n"
          ]
        },
        {
          "output_type": "stream",
          "name": "stderr",
          "text": []
        },
        {
          "output_type": "stream",
          "name": "stdout",
          "text": [
            "Epoch 19/50:  MAE Loss: 6.985702711708692, MSE Loss: 104.27506750457141\n"
          ]
        },
        {
          "output_type": "stream",
          "name": "stderr",
          "text": []
        },
        {
          "output_type": "stream",
          "name": "stdout",
          "text": [
            "Epoch 20/50:  MAE Loss: 6.792035538323072, MSE Loss: 98.58457347324916\n"
          ]
        },
        {
          "output_type": "stream",
          "name": "stderr",
          "text": []
        },
        {
          "output_type": "stream",
          "name": "stdout",
          "text": [
            "Epoch 21/50:  MAE Loss: 6.6114265529476866, MSE Loss: 93.5263731430988\n"
          ]
        },
        {
          "output_type": "stream",
          "name": "stderr",
          "text": []
        },
        {
          "output_type": "stream",
          "name": "stdout",
          "text": [
            "Epoch 22/50:  MAE Loss: 6.473350442185694, MSE Loss: 89.70299362649723\n"
          ]
        },
        {
          "output_type": "stream",
          "name": "stderr",
          "text": []
        },
        {
          "output_type": "stream",
          "name": "stdout",
          "text": [
            "Epoch 23/50:  MAE Loss: 6.315080053952276, MSE Loss: 85.50313330669792\n"
          ]
        },
        {
          "output_type": "stream",
          "name": "stderr",
          "text": []
        },
        {
          "output_type": "stream",
          "name": "stdout",
          "text": [
            "Epoch 24/50:  MAE Loss: 6.1749659582060215, MSE Loss: 81.96532229987942\n"
          ]
        },
        {
          "output_type": "stream",
          "name": "stderr",
          "text": []
        },
        {
          "output_type": "stream",
          "name": "stdout",
          "text": [
            "Epoch 25/50:  MAE Loss: 6.039589392895601, MSE Loss: 78.57724002915985\n"
          ]
        },
        {
          "output_type": "stream",
          "name": "stderr",
          "text": []
        },
        {
          "output_type": "stream",
          "name": "stdout",
          "text": [
            "Epoch 26/50:  MAE Loss: 5.918991906302316, MSE Loss: 75.77645763085813\n"
          ]
        },
        {
          "output_type": "stream",
          "name": "stderr",
          "text": []
        },
        {
          "output_type": "stream",
          "name": "stdout",
          "text": [
            "Epoch 27/50:  MAE Loss: 5.8471434335319366, MSE Loss: 73.89176209118901\n"
          ]
        },
        {
          "output_type": "stream",
          "name": "stderr",
          "text": []
        },
        {
          "output_type": "stream",
          "name": "stdout",
          "text": [
            "Epoch 28/50:  MAE Loss: 5.743922620403524, MSE Loss: 71.54223794353251\n"
          ]
        },
        {
          "output_type": "stream",
          "name": "stderr",
          "text": []
        },
        {
          "output_type": "stream",
          "name": "stdout",
          "text": [
            "Epoch 29/50:  MAE Loss: 5.6662412006027845, MSE Loss: 69.76987593514579\n"
          ]
        },
        {
          "output_type": "stream",
          "name": "stderr",
          "text": []
        },
        {
          "output_type": "stream",
          "name": "stdout",
          "text": [
            "Epoch 30/50:  MAE Loss: 5.577985432683205, MSE Loss: 67.69107069287982\n"
          ]
        },
        {
          "output_type": "stream",
          "name": "stderr",
          "text": []
        },
        {
          "output_type": "stream",
          "name": "stdout",
          "text": [
            "Epoch 31/50:  MAE Loss: 5.511607880495032, MSE Loss: 66.02258232661656\n"
          ]
        },
        {
          "output_type": "stream",
          "name": "stderr",
          "text": []
        },
        {
          "output_type": "stream",
          "name": "stdout",
          "text": [
            "Epoch 32/50:  MAE Loss: 5.4506911306965105, MSE Loss: 64.5686169449164\n"
          ]
        },
        {
          "output_type": "stream",
          "name": "stderr",
          "text": []
        },
        {
          "output_type": "stream",
          "name": "stdout",
          "text": [
            "Epoch 33/50:  MAE Loss: 5.390893116289256, MSE Loss: 63.058914067793864\n"
          ]
        },
        {
          "output_type": "stream",
          "name": "stderr",
          "text": []
        },
        {
          "output_type": "stream",
          "name": "stdout",
          "text": [
            "Epoch 34/50:  MAE Loss: 5.351494010613889, MSE Loss: 61.980949051526125\n"
          ]
        },
        {
          "output_type": "stream",
          "name": "stderr",
          "text": []
        },
        {
          "output_type": "stream",
          "name": "stdout",
          "text": [
            "Epoch 35/50:  MAE Loss: 5.282022454300705, MSE Loss: 60.42236316447355\n"
          ]
        },
        {
          "output_type": "stream",
          "name": "stderr",
          "text": []
        },
        {
          "output_type": "stream",
          "name": "stdout",
          "text": [
            "Epoch 36/50:  MAE Loss: 5.225597931414234, MSE Loss: 59.026080501322845\n"
          ]
        },
        {
          "output_type": "stream",
          "name": "stderr",
          "text": []
        },
        {
          "output_type": "stream",
          "name": "stdout",
          "text": [
            "Epoch 37/50:  MAE Loss: 5.166800194857072, MSE Loss: 57.63802057383012\n"
          ]
        },
        {
          "output_type": "stream",
          "name": "stderr",
          "text": []
        },
        {
          "output_type": "stream",
          "name": "stdout",
          "text": [
            "Epoch 38/50:  MAE Loss: 5.10834322656904, MSE Loss: 56.240704361273316\n"
          ]
        },
        {
          "output_type": "stream",
          "name": "stderr",
          "text": []
        },
        {
          "output_type": "stream",
          "name": "stdout",
          "text": [
            "Epoch 39/50:  MAE Loss: 5.0518560385217475, MSE Loss: 54.80898724770059\n"
          ]
        },
        {
          "output_type": "stream",
          "name": "stderr",
          "text": []
        },
        {
          "output_type": "stream",
          "name": "stdout",
          "text": [
            "Epoch 40/50:  MAE Loss: 4.986119749594708, MSE Loss: 53.43490939237633\n"
          ]
        },
        {
          "output_type": "stream",
          "name": "stderr",
          "text": []
        },
        {
          "output_type": "stream",
          "name": "stdout",
          "text": [
            "Epoch 41/50:  MAE Loss: 4.91606591185745, MSE Loss: 51.913990701947895\n"
          ]
        },
        {
          "output_type": "stream",
          "name": "stderr",
          "text": []
        },
        {
          "output_type": "stream",
          "name": "stdout",
          "text": [
            "Epoch 42/50:  MAE Loss: 4.871076875803422, MSE Loss: 50.93930415717923\n"
          ]
        },
        {
          "output_type": "stream",
          "name": "stderr",
          "text": []
        },
        {
          "output_type": "stream",
          "name": "stdout",
          "text": [
            "Epoch 43/50:  MAE Loss: 4.826047033679728, MSE Loss: 49.91854122706822\n"
          ]
        },
        {
          "output_type": "stream",
          "name": "stderr",
          "text": []
        },
        {
          "output_type": "stream",
          "name": "stdout",
          "text": [
            "Epoch 44/50:  MAE Loss: 4.772410901225343, MSE Loss: 48.76770496368408\n"
          ]
        },
        {
          "output_type": "stream",
          "name": "stderr",
          "text": []
        },
        {
          "output_type": "stream",
          "name": "stdout",
          "text": [
            "Epoch 45/50:  MAE Loss: 4.708683047975812, MSE Loss: 47.40992333937665\n"
          ]
        },
        {
          "output_type": "stream",
          "name": "stderr",
          "text": []
        },
        {
          "output_type": "stream",
          "name": "stdout",
          "text": [
            "Epoch 46/50:  MAE Loss: 4.637917876243591, MSE Loss: 46.03179923855529\n"
          ]
        },
        {
          "output_type": "stream",
          "name": "stderr",
          "text": []
        },
        {
          "output_type": "stream",
          "name": "stdout",
          "text": [
            "Epoch 47/50:  MAE Loss: 4.628902282033648, MSE Loss: 45.72001073798355\n"
          ]
        },
        {
          "output_type": "stream",
          "name": "stderr",
          "text": []
        },
        {
          "output_type": "stream",
          "name": "stdout",
          "text": [
            "Epoch 48/50:  MAE Loss: 4.597830176353455, MSE Loss: 45.0446905019332\n"
          ]
        },
        {
          "output_type": "stream",
          "name": "stderr",
          "text": []
        },
        {
          "output_type": "stream",
          "name": "stdout",
          "text": [
            "Epoch 49/50:  MAE Loss: 4.569747394444991, MSE Loss: 44.37970836795106\n"
          ]
        },
        {
          "output_type": "stream",
          "name": "stderr",
          "text": [
            "                                                 "
          ]
        },
        {
          "output_type": "stream",
          "name": "stdout",
          "text": [
            "Epoch 50/50:  MAE Loss: 4.505139900713551, MSE Loss: 43.19611559108812\n"
          ]
        },
        {
          "output_type": "stream",
          "name": "stderr",
          "text": [
            "\r"
          ]
        }
      ]
    },
    {
      "cell_type": "code",
      "source": [
        "epochs = 10\n",
        "for epoch in range(epochs):\n",
        "    l1, l2 = train_loop(model, trainloader, optimizer, backprop_loss)\n",
        "    print(f\"Epoch {epoch+1}/{epochs}:  MAE Loss: {l1}, MSE Loss: {l2}\")\n",
        "    l1_hist.append(l1)\n",
        "    l2_hist.append(l2)"
      ],
      "metadata": {
        "colab": {
          "base_uri": "https://localhost:8080/"
        },
        "id": "dL5DqrXeksu8",
        "outputId": "23085cb1-c5d9-468a-d515-33b63db14e37"
      },
      "execution_count": 29,
      "outputs": [
        {
          "output_type": "stream",
          "name": "stderr",
          "text": []
        },
        {
          "output_type": "stream",
          "name": "stdout",
          "text": [
            "Epoch 1/10:  MAE Loss: 4.13729421703183, MSE Loss: 36.139484901817475\n"
          ]
        },
        {
          "output_type": "stream",
          "name": "stderr",
          "text": []
        },
        {
          "output_type": "stream",
          "name": "stdout",
          "text": [
            "Epoch 2/10:  MAE Loss: 4.093823106921449, MSE Loss: 35.42499833204308\n"
          ]
        },
        {
          "output_type": "stream",
          "name": "stderr",
          "text": []
        },
        {
          "output_type": "stream",
          "name": "stdout",
          "text": [
            "Epoch 3/10:  MAE Loss: 4.064223789438909, MSE Loss: 34.885370789741984\n"
          ]
        },
        {
          "output_type": "stream",
          "name": "stderr",
          "text": []
        },
        {
          "output_type": "stream",
          "name": "stdout",
          "text": [
            "Epoch 4/10:  MAE Loss: 4.030083031070475, MSE Loss: 34.309730140530334\n"
          ]
        },
        {
          "output_type": "stream",
          "name": "stderr",
          "text": []
        },
        {
          "output_type": "stream",
          "name": "stdout",
          "text": [
            "Epoch 5/10:  MAE Loss: 4.011863181785661, MSE Loss: 33.9568412157954\n"
          ]
        },
        {
          "output_type": "stream",
          "name": "stderr",
          "text": []
        },
        {
          "output_type": "stream",
          "name": "stdout",
          "text": [
            "Epoch 6/10:  MAE Loss: 4.001821048405706, MSE Loss: 33.73971373694284\n"
          ]
        },
        {
          "output_type": "stream",
          "name": "stderr",
          "text": []
        },
        {
          "output_type": "stream",
          "name": "stdout",
          "text": [
            "Epoch 7/10:  MAE Loss: 3.9806757265207717, MSE Loss: 33.36946828024728\n"
          ]
        },
        {
          "output_type": "stream",
          "name": "stderr",
          "text": []
        },
        {
          "output_type": "stream",
          "name": "stdout",
          "text": [
            "Epoch 8/10:  MAE Loss: 3.930291304782945, MSE Loss: 32.569049611383555\n"
          ]
        },
        {
          "output_type": "stream",
          "name": "stderr",
          "text": []
        },
        {
          "output_type": "stream",
          "name": "stdout",
          "text": [
            "Epoch 9/10:  MAE Loss: 3.935742974281311, MSE Loss: 32.60230148081877\n"
          ]
        },
        {
          "output_type": "stream",
          "name": "stderr",
          "text": [
            "                                                 "
          ]
        },
        {
          "output_type": "stream",
          "name": "stdout",
          "text": [
            "Epoch 10/10:  MAE Loss: 3.9009489806330935, MSE Loss: 32.02070433752878\n"
          ]
        },
        {
          "output_type": "stream",
          "name": "stderr",
          "text": [
            "\r"
          ]
        }
      ]
    },
    {
      "cell_type": "code",
      "source": [
        "model_name = 'FINAL-CIFAR-L2'\n",
        "torch.save(model.state_dict(), f'models/{model_name}.pth')\n",
        "plot_loss(l1_hist, 'mean absolute error', f'plots/L1-{model_name}.png')\n",
        "plot_loss(l2_hist, 'mean squared error', f'plots/L2-{model_name}.png')"
      ],
      "metadata": {
        "colab": {
          "base_uri": "https://localhost:8080/",
          "height": 927
        },
        "id": "2QLiu7NkW4xc",
        "outputId": "636a3d6a-07f0-4cbb-8867-7bbea7cbf6ef"
      },
      "execution_count": 30,
      "outputs": [
        {
          "output_type": "display_data",
          "data": {
            "text/plain": [
              "<Figure size 640x480 with 1 Axes>"
            ],
            "image/png": "[encoded data removed]"
          },
          "metadata": {}
        },
        {
          "output_type": "display_data",
          "data": {
            "text/plain": [
              "<Figure size 640x480 with 1 Axes>"
            ],
            "image/png": "[encoded data removed]"
          },
          "metadata": {}
        }
      ]
    },
    {
      "cell_type": "code",
      "source": [
        "!pip install lpips"
      ],
      "metadata": {
        "colab": {
          "base_uri": "https://localhost:8080/"
        },
        "id": "bmlulL96NsgG",
        "outputId": "db8c0e50-ee8b-43dc-e21b-52f9e7e3d262"
      },
      "execution_count": 31,
      "outputs": [
        {
          "output_type": "stream",
          "name": "stdout",
          "text": [
            "Looking in indexes: https://pypi.org/simple, https://us-python.pkg.dev/colab-wheels/public/simple/\n",
            "Requirement already satisfied: lpips in /usr/local/lib/python3.10/dist-packages (0.1.4)\n",
            "Requirement already satisfied: torch>=0.4.0 in /usr/local/lib/python3.10/dist-packages (from lpips) (2.0.1+cu118)\n",
            "Requirement already satisfied: torchvision>=0.2.1 in /usr/local/lib/python3.10/dist-packages (from lpips) (0.15.2+cu118)\n",
            "Requirement already satisfied: numpy>=1.14.3 in /usr/local/lib/python3.10/dist-packages (from lpips) (1.22.4)\n",
            "Requirement already satisfied: scipy>=1.0.1 in /usr/local/lib/python3.10/dist-packages (from lpips) (1.10.1)\n",
            "Requirement already satisfied: tqdm>=4.28.1 in /usr/local/lib/python3.10/dist-packages (from lpips) (4.65.0)\n",
            "Requirement already satisfied: filelock in /usr/local/lib/python3.10/dist-packages (from torch>=0.4.0->lpips) (3.12.0)\n",
            "Requirement already satisfied: typing-extensions in /usr/local/lib/python3.10/dist-packages (from torch>=0.4.0->lpips) (4.5.0)\n",
            "Requirement already satisfied: sympy in /usr/local/lib/python3.10/dist-packages (from torch>=0.4.0->lpips) (1.11.1)\n",
            "Requirement already satisfied: networkx in /usr/local/lib/python3.10/dist-packages (from torch>=0.4.0->lpips) (3.1)\n",
            "Requirement already satisfied: jinja2 in /usr/local/lib/python3.10/dist-packages (from torch>=0.4.0->lpips) (3.1.2)\n",
            "Requirement already satisfied: triton==2.0.0 in /usr/local/lib/python3.10/dist-packages (from torch>=0.4.0->lpips) (2.0.0)\n",
            "Requirement already satisfied: cmake in /usr/local/lib/python3.10/dist-packages (from triton==2.0.0->torch>=0.4.0->lpips) (3.25.2)\n",
            "Requirement already satisfied: lit in /usr/local/lib/python3.10/dist-packages (from triton==2.0.0->torch>=0.4.0->lpips) (16.0.5)\n",
            "Requirement already satisfied: requests in /usr/local/lib/python3.10/dist-packages (from torchvision>=0.2.1->lpips) (2.27.1)\n",
            "Requirement already satisfied: pillow!=8.3.*,>=5.3.0 in /usr/local/lib/python3.10/dist-packages (from torchvision>=0.2.1->lpips) (8.4.0)\n",
            "Requirement already satisfied: MarkupSafe>=2.0 in /usr/local/lib/python3.10/dist-packages (from jinja2->torch>=0.4.0->lpips) (2.1.2)\n",
            "Requirement already satisfied: urllib3<1.27,>=1.21.1 in /usr/local/lib/python3.10/dist-packages (from requests->torchvision>=0.2.1->lpips) (1.26.15)\n",
            "Requirement already satisfied: certifi>=2017.4.17 in /usr/local/lib/python3.10/dist-packages (from requests->torchvision>=0.2.1->lpips) (2022.12.7)\n",
            "Requirement already satisfied: charset-normalizer~=2.0.0 in /usr/local/lib/python3.10/dist-packages (from requests->torchvision>=0.2.1->lpips) (2.0.12)\n",
            "Requirement already satisfied: idna<4,>=2.5 in /usr/local/lib/python3.10/dist-packages (from requests->torchvision>=0.2.1->lpips) (3.4)\n",
            "Requirement already satisfied: mpmath>=0.19 in /usr/local/lib/python3.10/dist-packages (from sympy->torch>=0.4.0->lpips) (1.3.0)\n"
          ]
        }
      ]
    },
    {
      "cell_type": "code",
      "source": [
        "from torch.types import Device\n",
        "from lpips import LPIPS\n",
        "\n",
        "lpips_alex = LPIPS(net='alex')\n",
        "\n",
        "def lpips_evaluate(model, loader):\n",
        "    model.eval()\n",
        "    model.to(device)\n",
        "    running_loss = 0.0\n",
        "\n",
        "    with torch.no_grad():\n",
        "        for grayscale_images, colors in loader:\n",
        "            grayscale_images = grayscale_images.to(device)\n",
        "            colors = colors.to(device)\n",
        "\n",
        "            # Forward pass\n",
        "            predicted_colors = model(grayscale_images)\n",
        "\n",
        "            # Compute the loss\n",
        "            predicted_rgb = to_rgb(grayscale_images.cpu(), predicted_colors.cpu(), to_numpy = False)\n",
        "            label_rgb = to_rgb(grayscale_images.cpu(), colors.cpu(), to_numpy = False)\n",
        "\n",
        "            loss = lpips_alex(predicted_rgb, label_rgb)\n",
        "\n",
        "            # Accumulate loss\n",
        "            running_loss += loss.sum().item() / len(loss)\n",
        "\n",
        "    # Calculate average loss\n",
        "    average_loss = running_loss / len(loader)\n",
        "\n",
        "    return average_loss\n"
      ],
      "metadata": {
        "colab": {
          "base_uri": "https://localhost:8080/"
        },
        "id": "rEJjKu60nLbq",
        "outputId": "31006494-c7c0-44b1-948a-e33ada833a6f"
      },
      "execution_count": 34,
      "outputs": [
        {
          "output_type": "stream",
          "name": "stdout",
          "text": [
            "Setting up [LPIPS] perceptual loss: trunk [alex], v[0.1], spatial [off]\n"
          ]
        },
        {
          "output_type": "stream",
          "name": "stderr",
          "text": [
            "/usr/local/lib/python3.10/dist-packages/torchvision/models/_utils.py:208: UserWarning: The parameter 'pretrained' is deprecated since 0.13 and may be removed in the future, please use 'weights' instead.\n",
            "  warnings.warn(\n",
            "/usr/local/lib/python3.10/dist-packages/torchvision/models/_utils.py:223: UserWarning: Arguments other than a weight enum or `None` for 'weights' are deprecated since 0.13 and may be removed in the future. The current behavior is equivalent to passing `weights=AlexNet_Weights.IMAGENET1K_V1`. You can also use `weights=AlexNet_Weights.DEFAULT` to get the most up-to-date weights.\n",
            "  warnings.warn(msg)\n"
          ]
        },
        {
          "output_type": "stream",
          "name": "stdout",
          "text": [
            "Loading model from: /usr/local/lib/python3.10/dist-packages/lpips/weights/v0.1/alex.pth\n"
          ]
        }
      ]
    },
    {
      "cell_type": "code",
      "source": [
        "\n",
        "testloader = DataLoader(test_data, batch_size=256)\n",
        "lpips_score = lpips_evaluate(model, testloader)\n",
        "\n",
        "print(f'LPIPS results on test data:{lpips_score}')"
      ],
      "metadata": {
        "colab": {
          "base_uri": "https://localhost:8080/"
        },
        "id": "i-2uBntENc2F",
        "outputId": "9be15249-b3be-4800-a477-ff4674947fde"
      },
      "execution_count": 35,
      "outputs": [
        {
          "output_type": "stream",
          "name": "stdout",
          "text": [
            "LPIPS results on test data:0.0514141833409667\n"
          ]
        }
      ]
    },
    {
      "cell_type": "code",
      "source": [
        "import random\n",
        "model.eval()\n",
        "\n",
        "index = random.randint(0,len(test_data))\n",
        "input, label = test_data[index]\n",
        "rgb_label = to_rgb(input, label)\n",
        "\n",
        "input = input.to(device)\n",
        "output = model(input.unsqueeze(0)).squeeze()\n",
        "print(output.shape)\n",
        "rgb_pred = to_rgb(input.cpu(), output.cpu())\n",
        "\n",
        "input.shape, label.shape, output.shape\n",
        "rgb_pred.shape, rgb_label.shape\n",
        "# Create subplots\n",
        "fig, axes = plt.subplots(nrows=1, ncols=2)\n",
        "\n",
        "\n",
        "axes[0].imshow(rgb_pred)\n",
        "axes[0].set_title('predicted color')\n",
        "\n",
        "axes[1].imshow(rgb_label)\n",
        "axes[1].set_title('ground truth')\n",
        "print(index)"
      ],
      "metadata": {
        "colab": {
          "base_uri": "https://localhost:8080/",
          "height": 344
        },
        "id": "Uxf21bxBYLMk",
        "outputId": "7e768a30-7f1c-4ea5-f763-b595edf511fa"
      },
      "execution_count": 50,
      "outputs": [
        {
          "output_type": "stream",
          "name": "stdout",
          "text": [
            "torch.Size([2, 32, 32])\n",
            "2516\n"
          ]
        },
        {
          "output_type": "display_data",
          "data": {
            "text/plain": [
              "<Figure size 640x480 with 2 Axes>"
            ],
            "image/png": "[encoded data removed]"
          },
          "metadata": {}
        }
      ]
    }
  ],
  "metadata": {
    "accelerator": "GPU",
    "colab": {
      "provenance": [],
      "gpuType": "V100",
      "include_colab_link": true
    },
    "kernelspec": {
      "display_name": "Python 3",
      "name": "python3"
    },
    "language_info": {
      "codemirror_mode": {
        "name": "ipython",
        "version": 3
      },
      "file_extension": ".py",
      "mimetype": "text/x-python",
      "name": "python",
      "nbconvert_exporter": "python",
      "pygments_lexer": "ipython3",
      "version": "3.8.10"
    }
  },
  "nbformat": 4,
  "nbformat_minor": 0
}